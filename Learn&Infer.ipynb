{
 "cells": [
  {
   "cell_type": "markdown",
   "id": "afb5990e-2be4-4aef-b24d-2d336ac646e3",
   "metadata": {},
   "source": [
    "Cuda 사용 가능한지 확인"
   ]
  },
  {
   "cell_type": "code",
   "execution_count": 1,
   "id": "a2064fdd-5473-4865-8a25-115ccf00a033",
   "metadata": {},
   "outputs": [],
   "source": [
    "import torch"
   ]
  },
  {
   "cell_type": "code",
   "execution_count": 2,
   "id": "440974d5-6da3-416f-b520-4f1b8867a014",
   "metadata": {},
   "outputs": [
    {
     "data": {
      "text/plain": [
       "True"
      ]
     },
     "execution_count": 2,
     "metadata": {},
     "output_type": "execute_result"
    }
   ],
   "source": [
    "torch.cuda.is_available()"
   ]
  },
  {
   "cell_type": "markdown",
   "id": "4f67c17a-9ec6-41df-81f5-35211d1abbce",
   "metadata": {},
   "source": [
    "Data (CIFAR-10) 불러오기"
   ]
  },
  {
   "cell_type": "code",
   "execution_count": 3,
   "id": "72c4493c-6d69-416c-b0bb-ed422495235e",
   "metadata": {},
   "outputs": [
    {
     "name": "stdout",
     "output_type": "stream",
     "text": [
      "Files already downloaded and verified\n",
      "Files already downloaded and verified\n"
     ]
    }
   ],
   "source": [
    "import torchvision\n",
    "import torchvision.transforms as transforms\n",
    "\n",
    "transform = transforms.Compose([\n",
    "    transforms.ToTensor(),\n",
    "    transforms.Normalize((0.5, 0.5, 0.5), (0.5, 0.5, 0.5))\n",
    "])\n",
    "\n",
    "trainset = torchvision.datasets.CIFAR10(root='./data', train=True,\n",
    "                                        download=True, transform=transform)\n",
    "trainloader = torch.utils.data.DataLoader(trainset, batch_size=32,\n",
    "                                          shuffle=True, num_workers=2)\n",
    "\n",
    "testset = torchvision.datasets.CIFAR10(root='./data', train=False,\n",
    "                                       download=True, transform=transform)\n",
    "testloader = torch.utils.data.DataLoader(testset, batch_size=32,\n",
    "                                         shuffle=False, num_workers=2)"
   ]
  },
  {
   "cell_type": "markdown",
   "id": "41545936-1fba-4c82-8b0e-b0e1193953c4",
   "metadata": {},
   "source": [
    "Model 불러오기"
   ]
  },
  {
   "cell_type": "code",
   "execution_count": 8,
   "id": "e282511d-7f21-4d60-adb7-a6289a56a6c2",
   "metadata": {},
   "outputs": [],
   "source": [
    "from ADNNs.load_model import select_model\n",
    "\n",
    "model = select_model(\"BranchyNet\")\n",
    "#model = select_model(\"SDNet\")\n",
    "#model = select_model(\"RANet\")\n",
    "#model = select_model(\"MSDNet\")\n",
    "\n",
    "#dynamic\n",
    "#model = select_model(\"BlockDrop\")\n",
    "#model = select_model(\"SkipNet\")\n",
    "\n",
    "\n",
    "model.train()\n",
    "model = model.cuda()"
   ]
  },
  {
   "cell_type": "code",
   "execution_count": 9,
   "id": "c07703e6-f924-4273-bb27-1ae2e2ca63c9",
   "metadata": {},
   "outputs": [],
   "source": [
    "import torch.nn as nn\n",
    "import torch.optim as optim\n",
    "criterion = nn.CrossEntropyLoss()\n",
    "optimizer = optim.Adam(model.parameters(), lr=0.001)"
   ]
  },
  {
   "cell_type": "markdown",
   "id": "e3532a11-5584-46b2-9307-3aa693adf419",
   "metadata": {},
   "source": [
    "Train"
   ]
  },
  {
   "cell_type": "code",
   "execution_count": null,
   "id": "67dae23b-ee0e-43b4-baf7-1ea3a234f81e",
   "metadata": {},
   "outputs": [
    {
     "name": "stdout",
     "output_type": "stream",
     "text": [
      "[1,   200] loss: 2.028\n",
      "[1,   400] loss: 1.745\n",
      "[1,   600] loss: 1.620\n",
      "[1,   800] loss: 1.533\n"
     ]
    }
   ],
   "source": [
    "for epoch in range(5): \n",
    "    running_loss = 0.0\n",
    "    for i, data in enumerate(trainloader, 0):\n",
    "        inputs, labels = data\n",
    "        inputs = inputs.cuda()\n",
    "        labels = labels.cuda()\n",
    "        \n",
    "        optimizer.zero_grad()\n",
    "\n",
    "        outputs = model(inputs)\n",
    "        loss = criterion(outputs[0].cuda(), labels)\n",
    "        loss.backward()\n",
    "        optimizer.step()\n",
    "\n",
    "        running_loss += loss.item()\n",
    "        if i % 200 == 199:  # 매 200개 배치마다 출력\n",
    "            print('[%d, %5d] loss: %.3f' %\n",
    "                  (epoch + 1, i + 1, running_loss / 200))\n",
    "            running_loss = 0.0\n",
    "\n",
    "print('Finished Training')"
   ]
  },
  {
   "cell_type": "markdown",
   "id": "1f12a1ef-f9a9-4835-9366-6241461e94c0",
   "metadata": {},
   "source": [
    "Test"
   ]
  },
  {
   "cell_type": "code",
   "execution_count": null,
   "id": "7971e94a-7356-46a1-b910-8299b91a9a41",
   "metadata": {},
   "outputs": [],
   "source": [
    "correct = 0\n",
    "total = 0\n",
    "with torch.no_grad():\n",
    "    for data in testloader:\n",
    "        images, labels = data\n",
    "        images = images.cuda()\n",
    "        labels = labels.cuda()\n",
    "        \n",
    "        outputs = model(images)\n",
    "        _, predicted = torch.max(outputs[0].data, 1)\n",
    "        total += labels.size(0)\n",
    "        correct += (predicted.cuda() == labels).sum().item()\n",
    "\n",
    "print('Accuracy of the network on the 10000 test images: %d %%' % (100 * correct / total))"
   ]
  },
  {
   "cell_type": "code",
   "execution_count": null,
   "id": "4bc7cca4-8fc3-4ecf-b25e-69a8760faaa9",
   "metadata": {},
   "outputs": [],
   "source": []
  }
 ],
 "metadata": {
  "kernelspec": {
   "display_name": "Python 3 (ipykernel)",
   "language": "python",
   "name": "python3"
  },
  "language_info": {
   "codemirror_mode": {
    "name": "ipython",
    "version": 3
   },
   "file_extension": ".py",
   "mimetype": "text/x-python",
   "name": "python",
   "nbconvert_exporter": "python",
   "pygments_lexer": "ipython3",
   "version": "3.9.19"
  }
 },
 "nbformat": 4,
 "nbformat_minor": 5
}
